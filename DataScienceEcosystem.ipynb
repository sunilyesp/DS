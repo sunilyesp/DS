{
 "cells": [
  {
   "cell_type": "markdown",
   "id": "240da6a7-2723-43c2-af16-08e206024387",
   "metadata": {},
   "source": [
    "# Data Science Tools and Ecosystem"
   ]
  },
  {
   "cell_type": "markdown",
   "id": "13807a44-fb2b-493c-b34e-4b635e177caf",
   "metadata": {},
   "source": [
    "In this notebook,Data Science Tools and Ecosystem are sumarized."
   ]
  },
  {
   "cell_type": "markdown",
   "id": "66f27e41-d3a2-44fb-a0f8-9ba00f8cc493",
   "metadata": {},
   "source": [
    "**Objectives**\n",
    "- List popular languages for Data Science\n",
    "- Commonly used libraries in Data science\n",
    "- Arithmetic evaluation\n",
    "- conversion\n",
    "\n"
   ]
  },
  {
   "cell_type": "markdown",
   "id": "44f4d995-65fa-4c2b-bbf1-4a4b6c527790",
   "metadata": {},
   "source": [
    "Some if the popular languages that Data Scientists use are:\n",
    "1. Python \n",
    "2. SQL \n",
    "3. R \n",
    "4. Scala \n",
    "5. Julia "
   ]
  },
  {
   "cell_type": "markdown",
   "id": "f18f8135-466b-4c53-90fc-3741801c7b86",
   "metadata": {},
   "source": [
    "Some of the commonly used libraries used by Data Scientists include:\n",
    "1. Pandas\n",
    "2. Numpy \n",
    "3. Matplotlib\n",
    "4. Seaborn\n",
    "5. Scikit-learn\n",
    "6. Keras\n",
    "7. TensorFlow\n",
    " "
   ]
  },
  {
   "cell_type": "markdown",
   "id": "8b1baf4f-6b24-4fb7-916c-c38f37a0f936",
   "metadata": {},
   "source": [
    "|Data Science Tools|\n",
    "------------------\n",
    "jupyter notebook\n",
    "jupyter lab\n",
    "Apache Zeppelin\n",
    "R Studio\n",
    "Spyder\n",
    "\n",
    " \n",
    "\n"
   ]
  },
  {
   "cell_type": "markdown",
   "id": "91a108f5-aaf0-4144-a11c-8d12232ae057",
   "metadata": {},
   "source": [
    "### Below are a few examples of evaluating arithmetic expresion in Python"
   ]
  },
  {
   "cell_type": "code",
   "execution_count": 8,
   "id": "54473772-181c-4a2d-a8c2-8256051dc37c",
   "metadata": {},
   "outputs": [
    {
     "data": {
      "text/plain": [
       "17"
      ]
     },
     "execution_count": 8,
     "metadata": {},
     "output_type": "execute_result"
    }
   ],
   "source": [
    "#This is simple arithemetic expression to multiply then add integers#\n",
    "(3*4)+5"
   ]
  },
  {
   "cell_type": "code",
   "execution_count": 14,
   "id": "075b02cc-04a2-4f00-ad92-669423753dbf",
   "metadata": {},
   "outputs": [
    {
     "name": "stdout",
     "output_type": "stream",
     "text": [
      "200 minutes is equal to 3.3333333333333335 hours\n"
     ]
    }
   ],
   "source": [
    "#This will convert 200 minutes to hours by diving by 60#\n",
    "x= 200/60\n",
    "print('200 minutes is equal to',x,'hours')"
   ]
  },
  {
   "cell_type": "markdown",
   "id": "9bb628f0-7157-4d34-866d-d412b0f4d705",
   "metadata": {},
   "source": [
    "## Author\n",
    "SUNIL S P"
   ]
  },
  {
   "cell_type": "code",
   "execution_count": null,
   "id": "195d661c-edd6-4885-b8f3-940811dc1377",
   "metadata": {},
   "outputs": [],
   "source": []
  }
 ],
 "metadata": {
  "kernelspec": {
   "display_name": "Python 3 (ipykernel)",
   "language": "python",
   "name": "python3"
  },
  "language_info": {
   "codemirror_mode": {
    "name": "ipython",
    "version": 3
   },
   "file_extension": ".py",
   "mimetype": "text/x-python",
   "name": "python",
   "nbconvert_exporter": "python",
   "pygments_lexer": "ipython3",
   "version": "3.11.4"
  }
 },
 "nbformat": 4,
 "nbformat_minor": 5
}
